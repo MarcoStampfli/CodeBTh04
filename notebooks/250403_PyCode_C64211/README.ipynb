{
 "cells": [
  {
   "cell_type": "markdown",
   "metadata": {},
   "source": [
    "## Arbeitspaket: Klassifikation mit Python\n",
    "\n",
    "### Allgemein\n",
    "\n",
    "1. **Analyse mit Histogramm:** Transformation RGB zu HSV Farbsystem, Histo erstellen\n",
    "    - 00_rgb_to_hsv.py\n",
    "    - 00_analyse_histo.py\n",
    "\n",
    "    TODO ev in den Code die Histo Plots in den Output-Ordner speichern (Overall/pro Klasse)\n",
    "\n",
    "2. **Clusteralgorithmus:**\n",
    "\n",
    "    Link zu Cluster-Algorithmen: https://scikit-learn.org/stable/auto_examples/cluster/index.html\n",
    "\n",
    "    Link zu Vergleich von Classifier-Algorithmen: https://scikit-learn.org/stable/auto_examples/classification/plot_classifier_comparison.html\n",
    "\n",
    "    Libarary: sklearn.cluster\n",
    "\n",
    "      **Algorithmen:**\n",
    "      1. **KMeans:** => *Implementiert, funktioniert mit 4-5 Klassen gut, Rechenzeit rund 40min*\n",
    "        - E1364_BTH4\\06_Klassifizierung\\250318_PyCode\\01_klass_pw_kmeans.py\n",
    "      2. **DBScan:** *=> Algorithmus DBSCAN könnte sich besser eignen... Density Based Clustering*\n",
    "        - E1364_BTH4/06_Klassifizierung/250318_PyCode/01_klass_pw_DBscan.py\n",
    "      3. **Spectral:** *=> sollte sich für Farb problemstellungen eignen*\n",
    "      - DBScan und Spectral: (Problem mit Rechenleistung: Downsampling, Batches, Dimensionierung der Matrix)\n",
    "\n",
    "3. **Vorgehen bei KMeans-Algorithmus**\n",
    "    - inputdatei PW_KOO_RGB_HSV_norm.txt\n",
    "    - Clusteranzahl def: zb 5\n",
    "\n",
    "    - **Output:**\n"
   ]
  },
  {
   "cell_type": "raw",
   "metadata": {
    "vscode": {
     "languageId": "raw"
    }
   },
   "source": [
    "|_Ordner KMeans_Clustered_Files_{Nr anz Klassen}\n",
    "    |_cluster_summary.txt *=> Tabelle mit Wertebereich der einzelnen Klassen*\n",
    "    |_histo_summary.png *=> Plot mit Wertebereich der gesamten PW* TODO\n",
    "    |_histo_Klasse_{NR}.png *=> Plot mit Wertebereich der einzelnen Klassen* TODO\n",
    "    |_kmeans_clustered_punktwolke.txt *=> Tabelle der PW mit Klassenzuweisung in der letzten Spalte*\n",
    "    |_PW_Klasse_0_kmeans.txt *=> Klassen einzeln als Punktwolke*\n",
    "    |_PW_Klasse_1_kmeans.txt\n",
    "    |_PW_Klasse_2_kmeans.txt\n",
    "    |_PW_Klasse_3_kmeans.txt\n",
    "    |_ ..."
   ]
  },
  {
   "cell_type": "markdown",
   "metadata": {},
   "source": [
    "## Jupyter Notebook Anleitung: Umgebung einrichten für die Skripte der Klassifizierung\n",
    "\n",
    "### Erstelle eine neue Anaconda Umgebung und installiere folgende Pakages"
   ]
  },
  {
   "cell_type": "code",
   "execution_count": null,
   "metadata": {},
   "outputs": [],
   "source": [
    "```bash\n",
    "conda create --name env_bth04 python=3.9 -y\n",
    "```\n",
    "\n",
    "```bash\n",
    "conda activate env_bth04\n",
    "```"
   ]
  },
  {
   "cell_type": "markdown",
   "metadata": {},
   "source": [
    "### Installiere die benötigten Pakete"
   ]
  },
  {
   "cell_type": "code",
   "execution_count": null,
   "metadata": {},
   "outputs": [],
   "source": [
    "\n",
    "```bash\n",
    "pip install pandas numpy tqdm scikit-learn matplotlib open3d\n",
    "```\n",
    "\n",
    "**HDBSCAN** Algorithmus ev für später\n",
    "```bash\n",
    "pip install hdbscan\n",
    "```\n"
   ]
  },
  {
   "cell_type": "markdown",
   "metadata": {},
   "source": [
    "### Weitere Codes, nicht implementiert!!!"
   ]
  },
  {
   "cell_type": "code",
   "execution_count": null,
   "metadata": {
    "vscode": {
     "languageId": "powershell"
    }
   },
   "outputs": [],
   "source": [
    "### **📌 Wichtige Hinweise:**\n",
    "Falls du Probleme mit `open3d` hast, versuche:\n",
    "```bash\n",
    "pip install open3d --extra-index-url https://pypi.nvidia.com/simple\n",
    "```\n",
    "Falls `matplotlib` oder `seaborn` nicht korrekt funktioniert, installiere `tkinter` mit:\n",
    "```bash\n",
    "conda install -c anaconda tk\n",
    "```\n",
    "Falls du GPU-Beschleunigung für große Datenmengen möchtest, installiere:\n",
    "```bash\n",
    "pip install cupy-cuda11x\n",
    "```"
   ]
  },
  {
   "cell_type": "markdown",
   "metadata": {},
   "source": []
  },
  {
   "cell_type": "markdown",
   "metadata": {},
   "source": []
  }
 ],
 "metadata": {
  "language_info": {
   "name": "python"
  }
 },
 "nbformat": 4,
 "nbformat_minor": 2
}
