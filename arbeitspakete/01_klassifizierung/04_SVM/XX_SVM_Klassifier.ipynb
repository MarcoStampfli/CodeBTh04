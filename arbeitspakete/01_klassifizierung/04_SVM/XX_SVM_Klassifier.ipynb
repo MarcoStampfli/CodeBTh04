{
 "cells": [
  {
   "cell_type": "markdown",
   "metadata": {},
   "source": [
    "# SVM Suport Vector Machine oder auch Suport Vector Classifier\n",
    "\n",
    "Klassen trennen mit Hilfe von Hyperebenen\n",
    "\n",
    "**in CMD folgende Pakete instalieren ins Enviorment:**"
   ]
  },
  {
   "cell_type": "code",
   "execution_count": 1,
   "metadata": {
    "vscode": {
     "languageId": "powershell"
    }
   },
   "outputs": [
    {
     "name": "stdout",
     "output_type": "stream",
     "text": [
      "Requirement already satisfied: pandas in c:\\users\\vania\\anaconda3\\envs\\dbv_py39\\lib\\site-packages (2.1.4)\n",
      "Requirement already satisfied: numpy in c:\\users\\vania\\anaconda3\\envs\\dbv_py39\\lib\\site-packages (1.26.2)\n",
      "Collecting scikit-learn\n",
      "  Downloading scikit_learn-1.6.1-cp39-cp39-win_amd64.whl (11.2 MB)\n",
      "     --------------------------------------- 11.2/11.2 MB 34.4 MB/s eta 0:00:00\n",
      "Requirement already satisfied: pytz>=2020.1 in c:\\users\\vania\\anaconda3\\envs\\dbv_py39\\lib\\site-packages (from pandas) (2023.3)\n",
      "Requirement already satisfied: tzdata>=2022.1 in c:\\users\\vania\\anaconda3\\envs\\dbv_py39\\lib\\site-packages (from pandas) (2023.3)\n",
      "Requirement already satisfied: python-dateutil>=2.8.2 in c:\\users\\vania\\anaconda3\\envs\\dbv_py39\\lib\\site-packages (from pandas) (2.8.2)\n",
      "Collecting joblib>=1.2.0\n",
      "  Downloading joblib-1.4.2-py3-none-any.whl (301 kB)\n",
      "     ------------------------------------- 301.8/301.8 kB 18.2 MB/s eta 0:00:00\n",
      "Collecting threadpoolctl>=3.1.0\n",
      "  Downloading threadpoolctl-3.6.0-py3-none-any.whl (18 kB)\n",
      "Requirement already satisfied: scipy>=1.6.0 in c:\\users\\vania\\anaconda3\\envs\\dbv_py39\\lib\\site-packages (from scikit-learn) (1.8.1)\n",
      "Requirement already satisfied: six>=1.5 in c:\\users\\vania\\anaconda3\\envs\\dbv_py39\\lib\\site-packages (from python-dateutil>=2.8.2->pandas) (1.16.0)\n",
      "Collecting numpy\n",
      "  Downloading numpy-1.24.4-cp39-cp39-win_amd64.whl (14.9 MB)\n",
      "     --------------------------------------- 14.9/14.9 MB 36.4 MB/s eta 0:00:00\n",
      "Installing collected packages: threadpoolctl, numpy, joblib, scikit-learn\n",
      "  Attempting uninstall: numpy\n",
      "    Found existing installation: numpy 1.26.2\n",
      "    Uninstalling numpy-1.26.2:\n",
      "      Successfully uninstalled numpy-1.26.2\n",
      "Successfully installed joblib-1.4.2 numpy-1.24.4 scikit-learn-1.6.1 threadpoolctl-3.6.0\n",
      "Note: you may need to restart the kernel to use updated packages.\n"
     ]
    }
   ],
   "source": [
    "pip install pandas numpy scikit-learn"
   ]
  },
  {
   "cell_type": "markdown",
   "metadata": {},
   "source": [
    "## Mögliche Ziele für die Klassifikation\n",
    "Je nach deinem Anwendungsfall könnten auch andere Zielgrößen verwendet werden:\n",
    "\n",
    "- Ansatz für Labels: Farben klustern mit KMeans, dann die Cluster als Labels nehmen\n",
    "\n",
    "Dominante Farbe als Klasse:"
   ]
  },
  {
   "cell_type": "code",
   "execution_count": 2,
   "metadata": {
    "vscode": {
     "languageId": "powershell"
    }
   },
   "outputs": [
    {
     "ename": "NameError",
     "evalue": "name 'df' is not defined",
     "output_type": "error",
     "traceback": [
      "\u001b[1;31m---------------------------------------------------------------------------\u001b[0m",
      "\u001b[1;31mNameError\u001b[0m                                 Traceback (most recent call last)",
      "Cell \u001b[1;32mIn[2], line 1\u001b[0m\n\u001b[1;32m----> 1\u001b[0m df[\u001b[38;5;124m\"\u001b[39m\u001b[38;5;124mLabel\u001b[39m\u001b[38;5;124m\"\u001b[39m] \u001b[38;5;241m=\u001b[39m \u001b[43mdf\u001b[49m[[\u001b[38;5;124m\"\u001b[39m\u001b[38;5;124mRed\u001b[39m\u001b[38;5;124m\"\u001b[39m, \u001b[38;5;124m\"\u001b[39m\u001b[38;5;124mGreen\u001b[39m\u001b[38;5;124m\"\u001b[39m, \u001b[38;5;124m\"\u001b[39m\u001b[38;5;124mBlue\u001b[39m\u001b[38;5;124m\"\u001b[39m]]\u001b[38;5;241m.\u001b[39midxmax(axis\u001b[38;5;241m=\u001b[39m\u001b[38;5;241m1\u001b[39m)\n",
      "\u001b[1;31mNameError\u001b[0m: name 'df' is not defined"
     ]
    }
   ],
   "source": [
    "df[\"Label\"] = df[[\"Red\", \"Green\", \"Blue\"]].idxmax(axis=1)"
   ]
  },
  {
   "cell_type": "markdown",
   "metadata": {},
   "source": [
    "\n",
    "- Gruppierung nach Höhenbereichen (Z)"
   ]
  },
  {
   "cell_type": "code",
   "execution_count": null,
   "metadata": {
    "vscode": {
     "languageId": "powershell"
    }
   },
   "outputs": [],
   "source": [
    "df[\"Label\"] = pd.cut(df[\"Z\"], bins=3, labels=[\"tief\", \"mittel\", \"hoch\"])\n"
   ]
  },
  {
   "cell_type": "markdown",
   "metadata": {},
   "source": [
    "\n",
    "- Klassifikation nach Scanrichtung (z. B. Z_dir > 0.9 = “nach oben”)\n"
   ]
  },
  {
   "cell_type": "code",
   "execution_count": null,
   "metadata": {
    "vscode": {
     "languageId": "powershell"
    }
   },
   "outputs": [],
   "source": [
    "df[\"Label\"] = df[\"Z_dir\"].apply(lambda z: \"nach oben\" if z > 0.9 else \"sonst\")"
   ]
  },
  {
   "cell_type": "markdown",
   "metadata": {},
   "source": [
    "- Zielvariable sind unsere definierten Klassen\n"
   ]
  },
  {
   "cell_type": "code",
   "execution_count": null,
   "metadata": {
    "vscode": {
     "languageId": "powershell"
    }
   },
   "outputs": [],
   "source": [
    "\n",
    "df[\"Label\"] = df[[\"Bäume\", \"Ground\", \"Daecher\", \"...\"]].idxmax(axis=1) # Zielklassen von uns!!!"
   ]
  },
  {
   "cell_type": "markdown",
   "metadata": {},
   "source": [
    "## SVM - Implementiert\n",
    "\n",
    "\n"
   ]
  },
  {
   "cell_type": "code",
   "execution_count": null,
   "metadata": {},
   "outputs": [
    {
     "data": {
      "image/png": "[encoded data removed]",
      "text/plain": [
       "<Figure size 640x480 with 1 Axes>"
      ]
     },
     "metadata": {},
     "output_type": "display_data"
    },
    {
     "ename": "KeyError",
     "evalue": "'LabelEncoder'",
     "output_type": "error",
     "traceback": [
      "\u001b[1;31m---------------------------------------------------------------------------\u001b[0m",
      "\u001b[1;31mKeyError\u001b[0m                                  Traceback (most recent call last)",
      "File \u001b[1;32mc:\\Users\\vania\\anaconda3\\envs\\dbv_py39\\lib\\site-packages\\pandas\\core\\indexes\\base.py:3791\u001b[0m, in \u001b[0;36mIndex.get_loc\u001b[1;34m(self, key)\u001b[0m\n\u001b[0;32m   3790\u001b[0m \u001b[38;5;28;01mtry\u001b[39;00m:\n\u001b[1;32m-> 3791\u001b[0m     \u001b[38;5;28;01mreturn\u001b[39;00m \u001b[38;5;28;43mself\u001b[39;49m\u001b[38;5;241;43m.\u001b[39;49m\u001b[43m_engine\u001b[49m\u001b[38;5;241;43m.\u001b[39;49m\u001b[43mget_loc\u001b[49m\u001b[43m(\u001b[49m\u001b[43mcasted_key\u001b[49m\u001b[43m)\u001b[49m\n\u001b[0;32m   3792\u001b[0m \u001b[38;5;28;01mexcept\u001b[39;00m \u001b[38;5;167;01mKeyError\u001b[39;00m \u001b[38;5;28;01mas\u001b[39;00m err:\n",
      "File \u001b[1;32mindex.pyx:152\u001b[0m, in \u001b[0;36mpandas._libs.index.IndexEngine.get_loc\u001b[1;34m()\u001b[0m\n",
      "File \u001b[1;32mindex.pyx:181\u001b[0m, in \u001b[0;36mpandas._libs.index.IndexEngine.get_loc\u001b[1;34m()\u001b[0m\n",
      "File \u001b[1;32mpandas\\_libs\\hashtable_class_helper.pxi:7080\u001b[0m, in \u001b[0;36mpandas._libs.hashtable.PyObjectHashTable.get_item\u001b[1;34m()\u001b[0m\n",
      "File \u001b[1;32mpandas\\_libs\\hashtable_class_helper.pxi:7088\u001b[0m, in \u001b[0;36mpandas._libs.hashtable.PyObjectHashTable.get_item\u001b[1;34m()\u001b[0m\n",
      "\u001b[1;31mKeyError\u001b[0m: 'LabelEncoder'",
      "\nThe above exception was the direct cause of the following exception:\n",
      "\u001b[1;31mKeyError\u001b[0m                                  Traceback (most recent call last)",
      "Cell \u001b[1;32mIn[6], line 31\u001b[0m\n\u001b[0;32m     29\u001b[0m \u001b[38;5;66;03m# 3. Features und Ziel definieren\u001b[39;00m\n\u001b[0;32m     30\u001b[0m X \u001b[38;5;241m=\u001b[39m df[[\u001b[38;5;124m\"\u001b[39m\u001b[38;5;124mX\u001b[39m\u001b[38;5;124m\"\u001b[39m, \u001b[38;5;124m\"\u001b[39m\u001b[38;5;124mY\u001b[39m\u001b[38;5;124m\"\u001b[39m, \u001b[38;5;124m\"\u001b[39m\u001b[38;5;124mZ\u001b[39m\u001b[38;5;124m\"\u001b[39m, \u001b[38;5;124m\"\u001b[39m\u001b[38;5;124mRed\u001b[39m\u001b[38;5;124m\"\u001b[39m, \u001b[38;5;124m\"\u001b[39m\u001b[38;5;124mGreen\u001b[39m\u001b[38;5;124m\"\u001b[39m, \u001b[38;5;124m\"\u001b[39m\u001b[38;5;124mBlue\u001b[39m\u001b[38;5;124m\"\u001b[39m, \u001b[38;5;124m\"\u001b[39m\u001b[38;5;124mHue (0-1)\u001b[39m\u001b[38;5;124m\"\u001b[39m, \u001b[38;5;124m\"\u001b[39m\u001b[38;5;124mSaturation (0-1)\u001b[39m\u001b[38;5;124m\"\u001b[39m, \u001b[38;5;124m\"\u001b[39m\u001b[38;5;124mValue (0-1)\u001b[39m\u001b[38;5;124m\"\u001b[39m, \u001b[38;5;124m\"\u001b[39m\u001b[38;5;124mX_dir\u001b[39m\u001b[38;5;124m\"\u001b[39m, \u001b[38;5;124m\"\u001b[39m\u001b[38;5;124mY_dir\u001b[39m\u001b[38;5;124m\"\u001b[39m, \u001b[38;5;124m\"\u001b[39m\u001b[38;5;124mZ_dir\u001b[39m\u001b[38;5;124m\"\u001b[39m]]\n\u001b[1;32m---> 31\u001b[0m y \u001b[38;5;241m=\u001b[39m \u001b[43mdf\u001b[49m\u001b[43m[\u001b[49m\u001b[38;5;124;43m\"\u001b[39;49m\u001b[38;5;124;43mLabelEncoder\u001b[39;49m\u001b[38;5;124;43m\"\u001b[39;49m\u001b[43m]\u001b[49m\n\u001b[0;32m     33\u001b[0m \u001b[38;5;66;03m# 4. Feature-Skalierung\u001b[39;00m\n\u001b[0;32m     34\u001b[0m scaler \u001b[38;5;241m=\u001b[39m StandardScaler()\n",
      "File \u001b[1;32mc:\\Users\\vania\\anaconda3\\envs\\dbv_py39\\lib\\site-packages\\pandas\\core\\frame.py:3893\u001b[0m, in \u001b[0;36mDataFrame.__getitem__\u001b[1;34m(self, key)\u001b[0m\n\u001b[0;32m   3891\u001b[0m \u001b[38;5;28;01mif\u001b[39;00m \u001b[38;5;28mself\u001b[39m\u001b[38;5;241m.\u001b[39mcolumns\u001b[38;5;241m.\u001b[39mnlevels \u001b[38;5;241m>\u001b[39m \u001b[38;5;241m1\u001b[39m:\n\u001b[0;32m   3892\u001b[0m     \u001b[38;5;28;01mreturn\u001b[39;00m \u001b[38;5;28mself\u001b[39m\u001b[38;5;241m.\u001b[39m_getitem_multilevel(key)\n\u001b[1;32m-> 3893\u001b[0m indexer \u001b[38;5;241m=\u001b[39m \u001b[38;5;28;43mself\u001b[39;49m\u001b[38;5;241;43m.\u001b[39;49m\u001b[43mcolumns\u001b[49m\u001b[38;5;241;43m.\u001b[39;49m\u001b[43mget_loc\u001b[49m\u001b[43m(\u001b[49m\u001b[43mkey\u001b[49m\u001b[43m)\u001b[49m\n\u001b[0;32m   3894\u001b[0m \u001b[38;5;28;01mif\u001b[39;00m is_integer(indexer):\n\u001b[0;32m   3895\u001b[0m     indexer \u001b[38;5;241m=\u001b[39m [indexer]\n",
      "File \u001b[1;32mc:\\Users\\vania\\anaconda3\\envs\\dbv_py39\\lib\\site-packages\\pandas\\core\\indexes\\base.py:3798\u001b[0m, in \u001b[0;36mIndex.get_loc\u001b[1;34m(self, key)\u001b[0m\n\u001b[0;32m   3793\u001b[0m     \u001b[38;5;28;01mif\u001b[39;00m \u001b[38;5;28misinstance\u001b[39m(casted_key, \u001b[38;5;28mslice\u001b[39m) \u001b[38;5;129;01mor\u001b[39;00m (\n\u001b[0;32m   3794\u001b[0m         \u001b[38;5;28misinstance\u001b[39m(casted_key, abc\u001b[38;5;241m.\u001b[39mIterable)\n\u001b[0;32m   3795\u001b[0m         \u001b[38;5;129;01mand\u001b[39;00m \u001b[38;5;28many\u001b[39m(\u001b[38;5;28misinstance\u001b[39m(x, \u001b[38;5;28mslice\u001b[39m) \u001b[38;5;28;01mfor\u001b[39;00m x \u001b[38;5;129;01min\u001b[39;00m casted_key)\n\u001b[0;32m   3796\u001b[0m     ):\n\u001b[0;32m   3797\u001b[0m         \u001b[38;5;28;01mraise\u001b[39;00m InvalidIndexError(key)\n\u001b[1;32m-> 3798\u001b[0m     \u001b[38;5;28;01mraise\u001b[39;00m \u001b[38;5;167;01mKeyError\u001b[39;00m(key) \u001b[38;5;28;01mfrom\u001b[39;00m \u001b[38;5;21;01merr\u001b[39;00m\n\u001b[0;32m   3799\u001b[0m \u001b[38;5;28;01mexcept\u001b[39;00m \u001b[38;5;167;01mTypeError\u001b[39;00m:\n\u001b[0;32m   3800\u001b[0m     \u001b[38;5;66;03m# If we have a listlike key, _check_indexing_error will raise\u001b[39;00m\n\u001b[0;32m   3801\u001b[0m     \u001b[38;5;66;03m#  InvalidIndexError. Otherwise we fall through and re-raise\u001b[39;00m\n\u001b[0;32m   3802\u001b[0m     \u001b[38;5;66;03m#  the TypeError.\u001b[39;00m\n\u001b[0;32m   3803\u001b[0m     \u001b[38;5;28mself\u001b[39m\u001b[38;5;241m.\u001b[39m_check_indexing_error(key)\n",
      "\u001b[1;31mKeyError\u001b[0m: 'LabelEncoder'"
     ]
    }
   ],
   "source": [
    "import pandas as pd\n",
    "from sklearn.preprocessing import StandardScaler\n",
    "from sklearn.model_selection import train_test_split\n",
    "from sklearn.svm import SVC\n",
    "from sklearn.metrics import classification_report\n",
    "import matplotlib.pyplot as plt\n",
    "\n",
    "#TODO Normalisierte einzelne Klassenfiles mergen und neue Spalte Klasse anlegen \"Label\"\n",
    "# \"S:\\HABG\\E1364_IGEO_BTH\\E1364_BTH4\\06_Auswertung\\01_Klassifizierung\\250327_SVM\"\n",
    "\n",
    "# 1. Daten laden\n",
    "df = pd.read_csv(\"PW_Klass_P3A1_gesamt_normalisiert.txt\", sep=\";\", header=None) # Normalisierte Werte + Klassenzugehörigkeit\n",
    "df.columns = [\n",
    "    \"X\", \"Y\", \"Z\",\n",
    "    \"Red\", \"Green\", \"Blue\",\n",
    "    \"Hue (0-1)\", \"Saturation (0-1)\", \"Value (0-1)\",\n",
    "    \"X_dir\", \"Y_dir\", \"Z_dir\" , \"Label\" #TODO kontrolle aufbau von .txt i.o. \n",
    "]\n",
    "\n",
    "# 2. Zielvariable Zielklassen von uns!!!\n",
    "df[\"LabelEncoded\"] = df[\"Label\"].astype(\"category\").cat.codes\n",
    "\n",
    "\n",
    "\n",
    "# Optional: Visualisierung der Label-Verteilung\n",
    "df[\"Label\"].value_counts().plot(kind='bar', title=\"Label Verteilung\")\n",
    "plt.show()\n",
    "\n",
    "# 3. Features und Ziel definieren\n",
    "X = df[[\"X\", \"Y\", \"Z\", \"Red\", \"Green\", \"Blue\", \"Hue (0-1)\", \"Saturation (0-1)\", \"Value (0-1)\", \"X_dir\", \"Y_dir\", \"Z_dir\"]]\n",
    "y = df[\"LabelEncoded\"]\n",
    "\n",
    "# 4. Feature-Skalierung\n",
    "scaler = StandardScaler()\n",
    "X_scaled = scaler.fit_transform(X)\n",
    "\n",
    "# 5. Daten aufteilen in Training/Test\n",
    "X_train, X_test, y_train, y_test = train_test_split(\n",
    "    X_scaled, y, test_size=0.3, random_state=42\n",
    ")\n",
    "\n",
    "# 6. SVC-Modell trainieren\n",
    "model = SVC(kernel='rbf', C=1.0, gamma=0.01) # kernel: weitere\n",
    "model.fit(X_train, y_train)\n",
    "\n",
    "# 7. Vorhersagen & Bewertung\n",
    "y_pred = model.predict(X_test)\n",
    "print(classification_report(y_test, y_pred))\n"
   ]
  },
  {
   "cell_type": "markdown",
   "metadata": {},
   "source": [
    "# Übersicht: SVM Kernel-Funktionen (`sklearn.SVC`)\n",
    "\n",
    "Die **Kernel-Funktion** ist der zentrale Mechanismus von SVMs. Sie erlaubt es, nicht-linear trennbare Daten in höhere Dimensionen zu projizieren, um dort eine lineare Trennung zu ermöglichen – ohne diese Dimension explizit zu berechnen (→ *Kernel-Trick*).\n",
    "\n",
    "---\n",
    "\n",
    "## Wichtige Kernel in `scikit-learn`\n",
    "\n",
    "| Kernel        | Beschreibung                                                                 | Parameter                              | Empfohlen bei…                                                                 |\n",
    "|---------------|------------------------------------------------------------------------------|----------------------------------------|---------------------------------------------------------------------------------|\n",
    "| `linear`      | Klassische lineare Trennung im Eingaberaum.                                  | `C`                                    | Wenn die Daten **linear trennbar** sind oder viele Features haben.             |\n",
    "| `rbf`         | Radial Basis Function (Gaußscher Kernel). Nichtlineare Trennung.             | `C`, `gamma`                           | **Standard-Kernel** für die meisten Klassifikationsprobleme.                   |\n",
    "| `poly`        | Polynomkernel: \\( K(x, y) = (\\gamma \\cdot x^T y + r)^d \\)                     | `C`, `degree`, `gamma`, `coef0`        | Wenn du eine **polynomartige Entscheidungsgrenze** vermutest.                 |\n",
    "| `sigmoid`     | Sigmoidkernel wie in neuronalen Netzen: \\( \\tanh(\\gamma x^T y + r) \\)         | `C`, `gamma`, `coef0`                  | Selten verwendet, ähnelt einem kleinen neuronalen Netz.                        |\n",
    "| `precomputed` | Du übergibst direkt eine **Kernel-Matrix** (Ähnlichkeitsmatrix).             | —                                      | Wenn du die Ähnlichkeiten selbst berechnest (z. B. mit eigener Distance-Maß). |\n",
    "\n",
    "---\n",
    "\n",
    "## Parameter kurz erklärt\n",
    "\n",
    "- **`C`** (Regulierung):  \n",
    "  - Hoch = strikte Trennung, weniger Toleranz für Fehler  \n",
    "  - Niedrig = weichere Trennung, robust gegen Ausreißer\n",
    "\n",
    "- **`gamma`** (bei `rbf`, `poly`, `sigmoid`):  \n",
    "  - Klein = weiter Blick (glatte Grenze)  \n",
    "  - Groß = enger Blick (komplizierte Grenze)\n",
    "\n",
    "- **`degree`**:  \n",
    "  - Nur bei `poly`, bestimmt den Grad des Polynoms\n",
    "\n",
    "- **`coef0`**:  \n",
    "  - Relevanter Bias-Term bei `poly` und `sigmoid`\n",
    "\n",
    "---\n",
    "\n",
    "## Kernel-Wirkung (vereinfacht)\n",
    "\n",
    "| Kernel     | Entscheidungsgrenze              | Beispielhafte Trennung (symbolisch)  |\n",
    "|------------|----------------------------------|--------------------------------------|\n",
    "| `linear`   | Gerade                           | 🔴⚫⚫⚫🚧⚫⚫⚫🔴                         |\n",
    "| `rbf`      | Kreisförmig / komplex            | 🔴⚫⚫🔴⚫🔴⚫🔴⚫                         |\n",
    "| `poly`     | Kurvig (z. B. parabelartig)      | ⚫🔴⚫🔴⚫🔴⚫🔴⚫                         |\n",
    "\n",
    "---\n",
    "\n",
    "## Empfehlung\n",
    "\n",
    "- Starte mit `rbf`, es ist am flexibelsten.\n",
    "- Teste verschiedene `C` und `gamma` Werte (z. B. mit GridSearch).\n",
    "- `linear` ist ideal für sehr große oder spärlich besetzte Feature-Vektoren.\n"
   ]
  }
 ],
 "metadata": {
  "kernelspec": {
   "display_name": "dbv_py39",
   "language": "python",
   "name": "python3"
  },
  "language_info": {
   "codemirror_mode": {
    "name": "ipython",
    "version": 3
   },
   "file_extension": ".py",
   "mimetype": "text/x-python",
   "name": "python",
   "nbconvert_exporter": "python",
   "pygments_lexer": "ipython3",
   "version": "3.9.16"
  }
 },
 "nbformat": 4,
 "nbformat_minor": 2
}
