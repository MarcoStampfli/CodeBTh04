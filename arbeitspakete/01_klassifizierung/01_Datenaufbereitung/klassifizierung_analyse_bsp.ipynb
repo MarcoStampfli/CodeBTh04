{
  "cells": [
    {
      "cell_type": "markdown",
      "metadata": {},
      "source": [
        "# \ud83d\udcca Analyse \u2013 Klassifizierung Schritt 01\n",
        "\n",
        "Dieses Notebook dient der Vorbereitung und Analyse der Eingangsdaten im Rahmen der Klassifizierung."
      ]
    },
    {
      "cell_type": "code",
      "execution_count": null,
      "metadata": {},
      "outputs": [],
      "source": [
        "# \ud83d\udce6 Bibliotheken importieren\n",
        "import pandas as pd\n",
        "import geopandas as gpd\n",
        "import matplotlib.pyplot as plt\n",
        "\n",
        "# \ud83c\udf0d Beispiel-Daten laden\n",
        "input_path = '../../input/stadtflaechen.geojson'\n",
        "gdf = gpd.read_file(input_path)\n",
        "\n",
        "# \ud83e\uddfc Erste Sichtung\n",
        "gdf.head()"
      ]
    },
    {
      "cell_type": "markdown",
      "metadata": {},
      "source": [
        "## \ud83d\uddfa\ufe0f Vorschau auf die Geodaten"
      ]
    },
    {
      "cell_type": "code",
      "execution_count": null,
      "metadata": {},
      "outputs": [],
      "source": [
        "# Plotten\n",
        "gdf.plot(figsize=(10, 10))\n",
        "plt.title(\"Stadtfl\u00e4chen \u2013 \u00dcbersicht\")\n",
        "plt.show()"
      ]
    }
  ],
  "metadata": {
    "kernelspec": {
      "display_name": "Python 3",
      "language": "python",
      "name": "python3"
    },
    "language_info": {
      "name": "python",
      "version": ""
    }
  },
  "nbformat": 4,
  "nbformat_minor": 2
}