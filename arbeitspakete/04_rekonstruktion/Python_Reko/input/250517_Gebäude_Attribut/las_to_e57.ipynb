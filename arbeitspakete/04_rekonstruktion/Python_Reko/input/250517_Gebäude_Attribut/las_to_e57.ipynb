{
 "cells": [
  {
   "cell_type": "code",
   "execution_count": null,
   "id": "c69aa0c6",
   "metadata": {},
   "outputs": [
    {
     "ename": "ModuleNotFoundError",
     "evalue": "No module named 'pdal'",
     "output_type": "error",
     "traceback": [
      "\u001b[1;31m---------------------------------------------------------------------------\u001b[0m",
      "\u001b[1;31mModuleNotFoundError\u001b[0m                       Traceback (most recent call last)",
      "Cell \u001b[1;32mIn[3], line 2\u001b[0m\n\u001b[0;32m      1\u001b[0m \u001b[38;5;28;01mimport\u001b[39;00m\u001b[38;5;250m \u001b[39m\u001b[38;5;21;01mos\u001b[39;00m\n\u001b[1;32m----> 2\u001b[0m \u001b[38;5;28;01mimport\u001b[39;00m\u001b[38;5;250m \u001b[39m\u001b[38;5;21;01mpdal\u001b[39;00m\n\u001b[0;32m      4\u001b[0m \u001b[38;5;66;03m# Hole absoluten Pfad zum \"Divers\"-Ordner (relativ zum Skript)\u001b[39;00m\n\u001b[0;32m      5\u001b[0m root_folder \u001b[38;5;241m=\u001b[39m os\u001b[38;5;241m.\u001b[39mpath\u001b[38;5;241m.\u001b[39mjoin(os\u001b[38;5;241m.\u001b[39mgetcwd(), \u001b[38;5;124m\"\u001b[39m\u001b[38;5;124mDivers\u001b[39m\u001b[38;5;124m\"\u001b[39m)\n",
      "\u001b[1;31mModuleNotFoundError\u001b[0m: No module named 'pdal'"
     ]
    }
   ],
   "source": [
    "import os\n",
    "import pdal\n",
    "\n",
    "# Hole absoluten Pfad zum \"Divers\"-Ordner (relativ zum Skript)\n",
    "root_folder = os.path.join(os.getcwd(), \"Divers\")\n",
    "\n",
    "# Zähler für Statistik\n",
    "converted_count = 0\n",
    "error_count = 0\n",
    "\n",
    "print(f\"🔍 Suche .las-Dateien in: {root_folder}\\n\")\n",
    "\n",
    "# Rekursiv durch alle Unterordner gehen\n",
    "for dirpath, _, filenames in os.walk(root_folder):\n",
    "    for filename in filenames:\n",
    "        if filename.lower().endswith(\".las\"):\n",
    "            input_path = os.path.join(dirpath, filename)\n",
    "            output_filename = os.path.splitext(filename)[0] + \".e57\"\n",
    "            output_path = os.path.join(dirpath, output_filename)\n",
    "\n",
    "            print(f\"➡️  Verarbeite: {input_path}\")\n",
    "\n",
    "            # PDAL-Pipeline\n",
    "            pipeline_json = {\n",
    "                \"pipeline\": [\n",
    "                    input_path,\n",
    "                    {\n",
    "                        \"type\": \"writers.e57\",\n",
    "                        \"filename\": output_path\n",
    "                    }\n",
    "                ]\n",
    "            }\n",
    "\n",
    "            # Konvertierung ausführen\n",
    "            try:\n",
    "                pipeline = pdal.Pipeline(json=pipeline_json)\n",
    "                pipeline.execute()\n",
    "                print(f\"Konvertiert: {output_filename}\\n\")\n",
    "                converted_count += 1\n",
    "            except RuntimeError as e:\n",
    "                print(f\"Fehler bei {input_path}: {e}\\n\")\n",
    "                error_count += 1\n",
    "\n",
    "# Zusammenfassung\n",
    "print(\"Fertig!\")\n",
    "print(f\"Erfolgreich konvertiert: {converted_count}\")\n",
    "print(f\"Fehler: {error_count}\")\n"
   ]
  }
 ],
 "metadata": {
  "kernelspec": {
   "display_name": "env_bth04",
   "language": "python",
   "name": "python3"
  },
  "language_info": {
   "codemirror_mode": {
    "name": "ipython",
    "version": 3
   },
   "file_extension": ".py",
   "mimetype": "text/x-python",
   "name": "python",
   "nbconvert_exporter": "python",
   "pygments_lexer": "ipython3",
   "version": "3.9.21"
  }
 },
 "nbformat": 4,
 "nbformat_minor": 5
}
