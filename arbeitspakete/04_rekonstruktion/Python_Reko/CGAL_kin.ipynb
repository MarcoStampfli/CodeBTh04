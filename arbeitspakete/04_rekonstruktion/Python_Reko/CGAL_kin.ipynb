{
 "cells": [
  {
   "cell_type": "markdown",
   "id": "d4ea107a",
   "metadata": {},
   "source": [
    "# Installationsanleitung für CGAL\n",
    "\n",
    "## 1. Voraussetzungen\n",
    "**Betriebssystem**\n",
    "\n",
    "Instaliere Windows mit WSL (Windows Subsystem for Linux).\n",
    "\n",
    "**Notwendige Tools:**\n",
    "\n",
    "Python (≥3.8)\n",
    "\n",
    "Visual Studio Code\n",
    "\n",
    "C++ Compiler (z.B. GCC)\n",
    "\n",
    "CMake (≥3.15)\n",
    "\n",
    "CGAL\n",
    "\n",
    "2. CGAL installieren\n",
    "Unter Linux/WSL (z.B. Ubuntu):"
   ]
  },
  {
   "cell_type": "code",
   "execution_count": null,
   "id": "6b292462",
   "metadata": {
    "vscode": {
     "languageId": "plaintext"
    }
   },
   "outputs": [],
   "source": [
    "sudo apt update\n",
    "sudo apt install libcgal-dev libeigen3-dev libboost-all-dev cmake g++"
   ]
  }
 ],
 "metadata": {
  "language_info": {
   "name": "python"
  }
 },
 "nbformat": 4,
 "nbformat_minor": 5
}
